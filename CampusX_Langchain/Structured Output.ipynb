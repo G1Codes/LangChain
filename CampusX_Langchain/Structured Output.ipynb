{
 "cells": [
  {
   "cell_type": "markdown",
   "id": "430a63e4",
   "metadata": {},
   "source": [
    "## 1. Typed Dictionary"
   ]
  },
  {
   "cell_type": "code",
   "execution_count": 1,
   "id": "7df04625",
   "metadata": {},
   "outputs": [],
   "source": [
    "from typing import TypedDict\n",
    "\n",
    "class Person(TypedDict):\n",
    "    name: str\n",
    "    age: int"
   ]
  },
  {
   "cell_type": "code",
   "execution_count": 2,
   "id": "f9803247",
   "metadata": {},
   "outputs": [],
   "source": [
    "from langchain_groq import ChatGroq\n",
    "from dotenv import load_dotenv\n",
    "from typing import TypedDict, Annotated, Optional, Literal"
   ]
  },
  {
   "cell_type": "code",
   "execution_count": 5,
   "id": "e6de1de8",
   "metadata": {},
   "outputs": [],
   "source": [
    "load_dotenv()\n",
    "\n",
    "model= ChatGroq(model=\"gemma2-9b-it\")"
   ]
  },
  {
   "cell_type": "code",
   "execution_count": 16,
   "id": "56f8566a",
   "metadata": {},
   "outputs": [],
   "source": [
    "# Create a class\n",
    "\n",
    "class Review (TypedDict):\n",
    "    summary: str\n",
    "    sentiment: str\n",
    "    rating: int\n",
    "\n",
    "\n",
    "structured_model = model.with_structured_output(Review)"
   ]
  },
  {
   "cell_type": "code",
   "execution_count": 18,
   "id": "34da0859",
   "metadata": {},
   "outputs": [
    {
     "data": {
      "text/plain": [
       "{'rating': 3,\n",
       " 'sentiment': 'negative',\n",
       " 'summary': 'Good mobile but facing heating issue'}"
      ]
     },
     "execution_count": 18,
     "metadata": {},
     "output_type": "execute_result"
    }
   ],
   "source": [
    "structured_model.invoke(\"\"\"\"\n",
    "Good mobile but facing heating issue 😕😕\n",
    "\"\"\")"
   ]
  },
  {
   "cell_type": "markdown",
   "id": "f28bab30",
   "metadata": {},
   "source": [
    "### Annotation, Literal, Optional:"
   ]
  },
  {
   "cell_type": "code",
   "execution_count": null,
   "id": "6b08c749",
   "metadata": {},
   "outputs": [
    {
     "data": {
      "text/plain": [
       "{'cons': [],\n",
       " 'key_themes': ['product quality', 'taste', 'crispiness', 'packaging'],\n",
       " 'pros': ['Very ok quality product', 'Very tasty and crispy'],\n",
       " 'rating': 4,\n",
       " 'sentiment': 'positive',\n",
       " 'summary': \"A positive review praising the product's quality, taste, crispiness, and packaging.\"}"
      ]
     },
     "execution_count": 70,
     "metadata": {},
     "output_type": "execute_result"
    }
   ],
   "source": [
    "from typing import Annotated, Literal, Optional\n",
    "\n",
    "class Review (TypedDict):\n",
    "    key_themes: Annotated[list[str], \"Write down all the key themes discussed in the review in a list\"]\n",
    "    summary: Annotated[str, \"A brief summary of the review\"]\n",
    "    sentiment: Annotated[Literal[\"positive\", \"negative\",\"mixed\"], \"Return sentiment of the review either negative, positive or neutral\"]\n",
    "    pros: Annotated[Optional[list[str]], \"Write down all the pros inside a list\"]\n",
    "    cons: Annotated[Optional[list[str]], \"Write down all the cons inside a list\"]\n",
    "    rating: int\n",
    "\n",
    "structured_model = model.with_structured_output(Review)\n",
    "\n",
    "structured_model.invoke(''' \n",
    "Very ok quality product. Very tasty and crispy. Good packing. Please keep it up.\n",
    "'''\n",
    "\n",
    ")"
   ]
  },
  {
   "cell_type": "markdown",
   "id": "eecb31e7",
   "metadata": {},
   "source": [
    "### Pass Multiple reviews:"
   ]
  },
  {
   "cell_type": "code",
   "execution_count": 75,
   "id": "4e9245cf",
   "metadata": {},
   "outputs": [
    {
     "name": "stdout",
     "output_type": "stream",
     "text": [
      "{'rating': 1, 'sentiment': 'negative', 'summary': 'The product is completely disappointing. The quality is terrible, and the wait time was excessive (4 days).  I would strongly advise against purchasing this product.  Instead,  consider visiting a local store for better options.'}\n",
      "{'cons': [], 'key_themes': ['quality', 'taste', 'freshness', 'versatility', 'value'], 'pros': ['crunchy', 'fresh', 'packed with flavor', 'healthy snack', 'great for desserts and dishes', 'packaging keeps them fresh', 'delicious taste', 'great value'], 'rating': 5, 'sentiment': 'positive', 'summary': 'The pistachios are top quality, crunchy, fresh, and flavorful. The packaging keeps them fresh, and they are a great value for the price.'}\n"
     ]
    }
   ],
   "source": [
    "from typing import Annotated, Literal, Optional\n",
    "\n",
    "class Review (TypedDict):\n",
    "    key_themes: Annotated[list[str], \"Write down all the key themes discussed in the review in a list\"]\n",
    "    summary: Annotated[str, \"A brief summary of the review\"]\n",
    "    sentiment: Annotated[Literal[\"positive\", \"negative\",\"mixed\"], \"Return sentiment of the review either negative, positive or neutral\"]\n",
    "    pros: Annotated[Optional[list[str]], \"Write down all the pros inside a list\"]\n",
    "    cons: Annotated[Optional[list[str]], \"Write down all the cons inside a list\"]\n",
    "    rating: int\n",
    "\n",
    "Reviews = [\"Completely waste , fully disappointed about quality , strongly non reffer , please don’t purchase anyone , please visit local offline stores and purchase , 1299 and 4 days weiting time all waste\", \"These pistachios are of top quality—crunchy, fresh, and packed with flavor. Perfect as a healthy snack or to add to desserts and dishes. The packaging keeps them fresh for longer, and the taste is absolutely delightful. A great value for the price! Highly recommend!\"]\n",
    "\n",
    "structured_model = model.with_structured_output(Review)\n",
    "\n",
    "for r in Reviews:\n",
    "    data1= structured_model.invoke(r)\n",
    "    print(data1)"
   ]
  },
  {
   "cell_type": "markdown",
   "id": "28b9d86d",
   "metadata": {},
   "source": [
    "# 2. Pydantic"
   ]
  },
  {
   "cell_type": "code",
   "execution_count": 77,
   "id": "741450a9",
   "metadata": {},
   "outputs": [
    {
     "name": "stdout",
     "output_type": "stream",
     "text": [
      "Requirement already satisfied: pydantic in d:\\python_env\\langchain\\venv\\lib\\site-packages (2.11.5)\n",
      "Requirement already satisfied: annotated-types>=0.6.0 in d:\\python_env\\langchain\\venv\\lib\\site-packages (from pydantic) (0.7.0)\n",
      "Requirement already satisfied: pydantic-core==2.33.2 in d:\\python_env\\langchain\\venv\\lib\\site-packages (from pydantic) (2.33.2)\n",
      "Requirement already satisfied: typing-extensions>=4.12.2 in d:\\python_env\\langchain\\venv\\lib\\site-packages (from pydantic) (4.14.0)\n",
      "Requirement already satisfied: typing-inspection>=0.4.0 in d:\\python_env\\langchain\\venv\\lib\\site-packages (from pydantic) (0.4.1)\n",
      "Note: you may need to restart the kernel to use updated packages.\n"
     ]
    }
   ],
   "source": [
    "#pip install pydantic"
   ]
  },
  {
   "cell_type": "code",
   "execution_count": 84,
   "id": "1ac1b15e",
   "metadata": {},
   "outputs": [
    {
     "name": "stdout",
     "output_type": "stream",
     "text": [
      "name='John'\n"
     ]
    }
   ],
   "source": [
    "from pydantic import BaseModel\n",
    "\n",
    "class Student(BaseModel):\n",
    "    name: str = 'John'\n",
    "\n",
    "new_student= {}\n",
    "\n",
    "student1= Student(**new_student)\n",
    "\n",
    "print(student1)"
   ]
  },
  {
   "cell_type": "code",
   "execution_count": 90,
   "id": "fea79969",
   "metadata": {},
   "outputs": [
    {
     "data": {
      "text/plain": [
       "'John'"
      ]
     },
     "execution_count": 90,
     "metadata": {},
     "output_type": "execute_result"
    }
   ],
   "source": [
    "student1.name"
   ]
  },
  {
   "cell_type": "markdown",
   "id": "d79bdf23",
   "metadata": {},
   "source": [
    "### Optional Fields"
   ]
  },
  {
   "cell_type": "code",
   "execution_count": 95,
   "id": "75efbcf1",
   "metadata": {},
   "outputs": [
    {
     "name": "stdout",
     "output_type": "stream",
     "text": [
      "name='John' age=45\n"
     ]
    }
   ],
   "source": [
    "from pydantic import BaseModel\n",
    "from typing import Optional\n",
    "\n",
    "class Student(BaseModel):\n",
    "    name: str = 'John'\n",
    "    age: Optional[int]=None\n",
    "\n",
    "new_student= {'age': '45'}\n",
    "\n",
    "student1= Student(**new_student)\n",
    "\n",
    "print(student1)    "
   ]
  },
  {
   "cell_type": "markdown",
   "id": "38a98212",
   "metadata": {},
   "source": [
    "## Validate Emails"
   ]
  },
  {
   "cell_type": "code",
   "execution_count": 100,
   "id": "0bf46002",
   "metadata": {},
   "outputs": [
    {
     "name": "stdout",
     "output_type": "stream",
     "text": [
      "Requirement already satisfied: pydantic[email] in d:\\python_env\\langchain\\venv\\lib\\site-packages (2.11.5)\n",
      "Requirement already satisfied: annotated-types>=0.6.0 in d:\\python_env\\langchain\\venv\\lib\\site-packages (from pydantic[email]) (0.7.0)\n",
      "Requirement already satisfied: pydantic-core==2.33.2 in d:\\python_env\\langchain\\venv\\lib\\site-packages (from pydantic[email]) (2.33.2)\n",
      "Requirement already satisfied: typing-extensions>=4.12.2 in d:\\python_env\\langchain\\venv\\lib\\site-packages (from pydantic[email]) (4.14.0)\n",
      "Requirement already satisfied: typing-inspection>=0.4.0 in d:\\python_env\\langchain\\venv\\lib\\site-packages (from pydantic[email]) (0.4.1)\n",
      "Collecting email-validator>=2.0.0 (from pydantic[email])\n",
      "  Downloading email_validator-2.2.0-py3-none-any.whl.metadata (25 kB)\n",
      "Collecting dnspython>=2.0.0 (from email-validator>=2.0.0->pydantic[email])\n",
      "  Downloading dnspython-2.7.0-py3-none-any.whl.metadata (5.8 kB)\n",
      "Requirement already satisfied: idna>=2.0.0 in d:\\python_env\\langchain\\venv\\lib\\site-packages (from email-validator>=2.0.0->pydantic[email]) (3.10)\n",
      "Downloading email_validator-2.2.0-py3-none-any.whl (33 kB)\n",
      "Downloading dnspython-2.7.0-py3-none-any.whl (313 kB)\n",
      "Installing collected packages: dnspython, email-validator\n",
      "\n",
      "   ---------------------------------------- 0/2 [dnspython]\n",
      "   ---------------------------------------- 0/2 [dnspython]\n",
      "   ---------------------------------------- 0/2 [dnspython]\n",
      "   ---------------------------------------- 0/2 [dnspython]\n",
      "   ---------------------------------------- 0/2 [dnspython]\n",
      "   ---------------------------------------- 0/2 [dnspython]\n",
      "   ---------------------------------------- 0/2 [dnspython]\n",
      "   ---------------------------------------- 0/2 [dnspython]\n",
      "   ---------------------------------------- 0/2 [dnspython]\n",
      "   ---------------------------------------- 0/2 [dnspython]\n",
      "   ---------------------------------------- 0/2 [dnspython]\n",
      "   ---------------------------------------- 0/2 [dnspython]\n",
      "   -------------------- ------------------- 1/2 [email-validator]\n",
      "   ---------------------------------------- 2/2 [email-validator]\n",
      "\n",
      "Successfully installed dnspython-2.7.0 email-validator-2.2.0\n",
      "Note: you may need to restart the kernel to use updated packages.\n"
     ]
    }
   ],
   "source": [
    "#pip install pydantic[email]"
   ]
  },
  {
   "cell_type": "code",
   "execution_count": 106,
   "id": "3bbe5662",
   "metadata": {},
   "outputs": [
    {
     "data": {
      "text/plain": [
       "Student(name='Cena', age=45, email='abc@gmail.com')"
      ]
     },
     "execution_count": 106,
     "metadata": {},
     "output_type": "execute_result"
    }
   ],
   "source": [
    "from pydantic import BaseModel, EmailStr\n",
    "from typing import Optional\n",
    "\n",
    "class Student(BaseModel):\n",
    "    name: str = 'John'\n",
    "    age: Optional[int]=None\n",
    "    email: EmailStr\n",
    "\n",
    "new_student= {'name':'Cena', 'age': 45, 'email': \"abc@gmail.com\"}\n",
    "\n",
    "student1= Student(**new_student)\n",
    "student1"
   ]
  },
  {
   "cell_type": "markdown",
   "id": "e7aea931",
   "metadata": {},
   "source": [
    "## Field( Function)"
   ]
  },
  {
   "cell_type": "code",
   "execution_count": 113,
   "id": "3fd4409c",
   "metadata": {},
   "outputs": [
    {
     "data": {
      "text/plain": [
       "Student(name='john', age=32, email='abc@gmail.com', cgpa=6.3)"
      ]
     },
     "execution_count": 113,
     "metadata": {},
     "output_type": "execute_result"
    }
   ],
   "source": [
    "from pydantic import BaseModel, EmailStr, Field\n",
    "from typing import Optional\n",
    "\n",
    "class Student(BaseModel):\n",
    "\n",
    "    name: str = 'john'\n",
    "    age: Optional[int] = None\n",
    "    email: EmailStr\n",
    "    cgpa: float = Field(gt=0, lt=10, default=5, description='A decimal value representing the cgpa of the student')\n",
    "\n",
    "\n",
    "new_student = {'age':'32', 'email':'abc@gmail.com', 'cgpa': 6.3}\n",
    "\n",
    "student1 = Student(**new_student)\n",
    "student1"
   ]
  },
  {
   "cell_type": "code",
   "execution_count": null,
   "id": "3969206c",
   "metadata": {},
   "outputs": [
    {
     "data": {
      "text/plain": [
       "{'name': 'john', 'age': 32, 'email': 'abc@gmail.com', 'cgpa': 6.3}"
      ]
     },
     "execution_count": 114,
     "metadata": {},
     "output_type": "execute_result"
    }
   ],
   "source": [
    "# Convert this into python dictionary:\n",
    "\n",
    "student_dict = dict(student1)\n",
    "student_dict"
   ]
  },
  {
   "cell_type": "code",
   "execution_count": 117,
   "id": "50cda8f0",
   "metadata": {},
   "outputs": [
    {
     "data": {
      "text/plain": [
       "32"
      ]
     },
     "execution_count": 117,
     "metadata": {},
     "output_type": "execute_result"
    }
   ],
   "source": [
    "student_dict.get('age')"
   ]
  },
  {
   "cell_type": "code",
   "execution_count": 121,
   "id": "8853f20f",
   "metadata": {},
   "outputs": [
    {
     "data": {
      "text/plain": [
       "'{\"name\":\"john\",\"age\":32,\"email\":\"abc@gmail.com\",\"cgpa\":6.3}'"
      ]
     },
     "execution_count": 121,
     "metadata": {},
     "output_type": "execute_result"
    }
   ],
   "source": [
    "#Convert to JSON:\n",
    "student1_json= student1.model_dump_json()\n",
    "student1_json"
   ]
  },
  {
   "cell_type": "markdown",
   "id": "1749070e",
   "metadata": {},
   "source": [
    "# Pydantic + with_structured_output"
   ]
  },
  {
   "cell_type": "code",
   "execution_count": 122,
   "id": "72a98716",
   "metadata": {},
   "outputs": [],
   "source": [
    "from langchain_groq import ChatGroq\n",
    "from dotenv import load_dotenv\n",
    "from typing import TypedDict, Annotated, Optional, Literal\n",
    "from pydantic import BaseModel, Field"
   ]
  },
  {
   "cell_type": "code",
   "execution_count": 127,
   "id": "f794f586",
   "metadata": {},
   "outputs": [],
   "source": [
    "class Review(BaseModel):\n",
    "    key_themes : list[str] = Field(description= \"Write down all the key themes discussed in the review in a list\")\n",
    "    summary: str = Field(description= \"A brief summary of the review\")\n",
    "    sentiment: Literal['Positive', 'Negative', \"Mixed\"] = Field(description= \"Return sentiment of the review either negative, positive or Mixed\")\n",
    "    pros: Optional[list[str]] = Field(default=None, description=\"Write down all the pros inside a list\")\n",
    "    cons: Optional[list[str]] = Field(default=None, description=\"Write down all the cons inside a list\")\n",
    "    name: Optional[str] = Field(default=None, description=\"Write the name of the reviewer\")\n",
    "\n",
    "#default=None required for Optional value    \n",
    "\n",
    "\n",
    "structured_model = model.with_structured_output(Review)"
   ]
  },
  {
   "cell_type": "code",
   "execution_count": 129,
   "id": "bbc9ae76",
   "metadata": {},
   "outputs": [
    {
     "name": "stdout",
     "output_type": "stream",
     "text": [
      "key_themes=['Performance and Camera', 'Battery life and charging', 'Size and weight', 'Software and Price'] summary='The Samsung Galaxy S24 Ultra is a powerful phone with an incredible camera, but its size, weight, and price may be drawbacks for some users.' sentiment='Mixed' pros=['Insanely powerful processor (great for gaming and productivity)', 'Stunning 200MP camera with incredible zoom capabilities', 'Long battery life with fast charging', 'S-Pen support is unique and useful'] cons=['Weight and size make it uncomfortable for one-handed use', \"Samsung's One UI still comes with bloatware\", 'The $1,300 price tag is expensive'] name='Randy Orton'\n"
     ]
    }
   ],
   "source": [
    "result = structured_model.invoke(\"\"\"I recently upgraded to the Samsung Galaxy S24 Ultra, and I must say, it’s an absolute powerhouse! The Snapdragon 8 Gen 3 processor makes everything lightning fast—whether I’m gaming, multitasking, or editing photos. The 5000mAh battery easily lasts a full day even with heavy use, and the 45W fast charging is a lifesaver.\n",
    "\n",
    "The S-Pen integration is a great touch for note-taking and quick sketches, though I don't use it often. What really blew me away is the 200MP camera—the night mode is stunning, capturing crisp, vibrant images even in low light. Zooming up to 100x actually works well for distant objects, but anything beyond 30x loses quality.\n",
    "\n",
    "However, the weight and size make it a bit uncomfortable for one-handed use. Also, Samsung’s One UI still comes with bloatware—why do I need five different Samsung apps for things Google already provides? The $1,300 price tag is also a hard pill to swallow.\n",
    "\n",
    "Pros:\n",
    "Insanely powerful processor (great for gaming and productivity)\n",
    "Stunning 200MP camera with incredible zoom capabilities\n",
    "Long battery life with fast charging\n",
    "S-Pen support is unique and useful\n",
    "                                 \n",
    "Review by Randy Orton\n",
    "\"\"\")\n",
    "\n",
    "print(result)"
   ]
  },
  {
   "cell_type": "code",
   "execution_count": 131,
   "id": "26f6a994",
   "metadata": {},
   "outputs": [
    {
     "data": {
      "text/plain": [
       "__main__.Review"
      ]
     },
     "execution_count": 131,
     "metadata": {},
     "output_type": "execute_result"
    }
   ],
   "source": [
    "type(result)"
   ]
  },
  {
   "cell_type": "markdown",
   "id": "dd81478e",
   "metadata": {},
   "source": [
    "# JSON Schema"
   ]
  },
  {
   "cell_type": "code",
   "execution_count": 132,
   "id": "80c20a4b",
   "metadata": {},
   "outputs": [
    {
     "data": {
      "text/plain": [
       "{'title': 'student',\n",
       " 'description': 'schema about students',\n",
       " 'type': 'object',\n",
       " 'properties': {'name': 'string', 'age': 'integer'},\n",
       " 'required': ['name']}"
      ]
     },
     "execution_count": 132,
     "metadata": {},
     "output_type": "execute_result"
    }
   ],
   "source": [
    "{\n",
    "    \"title\": \"student\",\n",
    "    \"description\": \"schema about students\",\n",
    "    \"type\": \"object\",\n",
    "    \"properties\":{\n",
    "        \"name\":\"string\",\n",
    "        \"age\":\"integer\"\n",
    "    },\n",
    "    \"required\":[\"name\"] #Name of the student must be present\n",
    "}"
   ]
  },
  {
   "cell_type": "code",
   "execution_count": 133,
   "id": "dd6af716",
   "metadata": {},
   "outputs": [],
   "source": [
    "json_schema = {\n",
    "  \"title\": \"Review\",\n",
    "  \"type\": \"object\",\n",
    "  \"properties\": {\n",
    "    \"key_themes\": {\n",
    "      \"type\": \"array\",\n",
    "      \"items\": {\n",
    "        \"type\": \"string\"\n",
    "      },\n",
    "      \"description\": \"Write down all the key themes discussed in the review in a list\"\n",
    "    },\n",
    "    \"summary\": {\n",
    "      \"type\": \"string\",\n",
    "      \"description\": \"A brief summary of the review\"\n",
    "    },\n",
    "    \"sentiment\": {\n",
    "      \"type\": \"string\",\n",
    "      \"enum\": [\"pos\", \"neg\"],\n",
    "      \"description\": \"Return sentiment of the review either negative, positive or neutral\"\n",
    "    },\n",
    "    \"pros\": {\n",
    "      \"type\": [\"array\", \"null\"],\n",
    "      \"items\": {\n",
    "        \"type\": \"string\"\n",
    "      },\n",
    "      \"description\": \"Write down all the pros inside a list\"\n",
    "    },\n",
    "    \"cons\": {\n",
    "      \"type\": [\"array\", \"null\"],\n",
    "      \"items\": {\n",
    "        \"type\": \"string\"\n",
    "      },\n",
    "      \"description\": \"Write down all the cons inside a list\"\n",
    "    },\n",
    "    \"name\": {\n",
    "      \"type\": [\"string\", \"null\"],\n",
    "      \"description\": \"Write the name of the reviewer\"\n",
    "    }\n",
    "  },\n",
    "  \"required\": [\"key_themes\", \"summary\", \"sentiment\"]\n",
    "}\n"
   ]
  },
  {
   "cell_type": "code",
   "execution_count": 134,
   "id": "09da5523",
   "metadata": {},
   "outputs": [],
   "source": [
    "structured_model = model.with_structured_output(json_schema)"
   ]
  },
  {
   "cell_type": "code",
   "execution_count": 135,
   "id": "2a0fd2a6",
   "metadata": {},
   "outputs": [
    {
     "name": "stdout",
     "output_type": "stream",
     "text": [
      "{'cons': ['The weight and size make it a bit uncomfortable for one-handed use.', 'Samsung’s One UI still comes with bloatware—why do I need five different Samsung apps for things Google already provides?', 'The $1,300 price tag is also a hard pill to swallow.'], 'key_themes': ['Performance', 'Camera', 'Battery Life', 'S-Pen', 'Bloatware', 'Price'], 'name': 'Randy Orton', 'pros': ['Insanely powerful processor (great for gaming and productivity)', 'Stunning 200MP camera with incredible zoom capabilities', 'Long battery life with fast charging', 'S-Pen support is unique and useful'], 'sentiment': 'pos', 'summary': 'The Samsung Galaxy S24 Ultra is a powerful and feature-rich phone with a stunning camera and long battery life, but its size, bloatware, and high price are drawbacks.'}\n"
     ]
    }
   ],
   "source": [
    "result = structured_model.invoke(\"\"\"I recently upgraded to the Samsung Galaxy S24 Ultra, and I must say, it’s an absolute powerhouse! The Snapdragon 8 Gen 3 processor makes everything lightning fast—whether I’m gaming, multitasking, or editing photos. The 5000mAh battery easily lasts a full day even with heavy use, and the 45W fast charging is a lifesaver.\n",
    "\n",
    "The S-Pen integration is a great touch for note-taking and quick sketches, though I don't use it often. What really blew me away is the 200MP camera—the night mode is stunning, capturing crisp, vibrant images even in low light. Zooming up to 100x actually works well for distant objects, but anything beyond 30x loses quality.\n",
    "\n",
    "However, the weight and size make it a bit uncomfortable for one-handed use. Also, Samsung’s One UI still comes with bloatware—why do I need five different Samsung apps for things Google already provides? The $1,300 price tag is also a hard pill to swallow.\n",
    "\n",
    "Pros:\n",
    "Insanely powerful processor (great for gaming and productivity)\n",
    "Stunning 200MP camera with incredible zoom capabilities\n",
    "Long battery life with fast charging\n",
    "S-Pen support is unique and useful\n",
    "                                 \n",
    "Review by Randy Orton\n",
    "\"\"\")\n",
    "\n",
    "print(result)"
   ]
  },
  {
   "cell_type": "markdown",
   "id": "a9a4b5d4",
   "metadata": {},
   "source": [
    "# Convert Pydantic to JSON Schema"
   ]
  },
  {
   "cell_type": "code",
   "execution_count": 136,
   "id": "fea54c6b",
   "metadata": {},
   "outputs": [],
   "source": [
    "class Review(BaseModel):\n",
    "    key_themes : list[str] = Field(description= \"Write down all the key themes discussed in the review in a list\")\n",
    "    summary: str = Field(description= \"A brief summary of the review\")\n",
    "    sentiment: Literal['Positive', 'Negative', \"Mixed\"] = Field(description= \"Return sentiment of the review either negative, positive or Mixed\")\n",
    "    pros: Optional[list[str]] = Field(default=None, description=\"Write down all the pros inside a list\")\n",
    "    cons: Optional[list[str]] = Field(default=None, description=\"Write down all the cons inside a list\")\n",
    "    name: Optional[str] = Field(default=None, description=\"Write the name of the reviewer\")\n"
   ]
  },
  {
   "cell_type": "code",
   "execution_count": 139,
   "id": "761669ee",
   "metadata": {},
   "outputs": [
    {
     "data": {
      "text/plain": [
       "{'properties': {'key_themes': {'description': 'Write down all the key themes discussed in the review in a list',\n",
       "   'items': {'type': 'string'},\n",
       "   'title': 'Key Themes',\n",
       "   'type': 'array'},\n",
       "  'summary': {'description': 'A brief summary of the review',\n",
       "   'title': 'Summary',\n",
       "   'type': 'string'},\n",
       "  'sentiment': {'description': 'Return sentiment of the review either negative, positive or Mixed',\n",
       "   'enum': ['Positive', 'Negative', 'Mixed'],\n",
       "   'title': 'Sentiment',\n",
       "   'type': 'string'},\n",
       "  'pros': {'anyOf': [{'items': {'type': 'string'}, 'type': 'array'},\n",
       "    {'type': 'null'}],\n",
       "   'default': None,\n",
       "   'description': 'Write down all the pros inside a list',\n",
       "   'title': 'Pros'},\n",
       "  'cons': {'anyOf': [{'items': {'type': 'string'}, 'type': 'array'},\n",
       "    {'type': 'null'}],\n",
       "   'default': None,\n",
       "   'description': 'Write down all the cons inside a list',\n",
       "   'title': 'Cons'},\n",
       "  'name': {'anyOf': [{'type': 'string'}, {'type': 'null'}],\n",
       "   'default': None,\n",
       "   'description': 'Write the name of the reviewer',\n",
       "   'title': 'Name'}},\n",
       " 'required': ['key_themes', 'summary', 'sentiment'],\n",
       " 'title': 'Review',\n",
       " 'type': 'object'}"
      ]
     },
     "execution_count": 139,
     "metadata": {},
     "output_type": "execute_result"
    }
   ],
   "source": [
    "Review.model_json_schema()"
   ]
  },
  {
   "cell_type": "code",
   "execution_count": 140,
   "id": "1046e829",
   "metadata": {},
   "outputs": [
    {
     "data": {
      "text/plain": [
       "dict"
      ]
     },
     "execution_count": 140,
     "metadata": {},
     "output_type": "execute_result"
    }
   ],
   "source": [
    "type(Review.model_json_schema())"
   ]
  }
 ],
 "metadata": {
  "kernelspec": {
   "display_name": "Python 3",
   "language": "python",
   "name": "python3"
  },
  "language_info": {
   "codemirror_mode": {
    "name": "ipython",
    "version": 3
   },
   "file_extension": ".py",
   "mimetype": "text/x-python",
   "name": "python",
   "nbconvert_exporter": "python",
   "pygments_lexer": "ipython3",
   "version": "3.10.16"
  }
 },
 "nbformat": 4,
 "nbformat_minor": 5
}
