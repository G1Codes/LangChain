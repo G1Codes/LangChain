{
 "cells": [
  {
   "cell_type": "markdown",
   "id": "5fa5b93e",
   "metadata": {},
   "source": [
    "# 1. StrOutputParser()"
   ]
  },
  {
   "cell_type": "code",
   "execution_count": 4,
   "id": "c42ab116",
   "metadata": {},
   "outputs": [],
   "source": [
    "from langchain_groq import ChatGroq\n",
    "from dotenv import load_dotenv\n",
    "\n",
    "from langchain_core.output_parsers import StrOutputParser\n",
    "from langchain.prompts import PromptTemplate\n",
    "\n",
    "load_dotenv()\n",
    "\n",
    "model = ChatGroq(model=\"gemma2-9b-it\")"
   ]
  },
  {
   "cell_type": "code",
   "execution_count": 5,
   "id": "f8c8cd22",
   "metadata": {},
   "outputs": [],
   "source": [
    "# 1st prompt -> detailed report\n",
    "template1 = PromptTemplate(\n",
    "    template='Write a detailed report on {topic}',\n",
    "    input_variables=['topic']\n",
    ")\n",
    "\n",
    "# 2nd prompt -> summary\n",
    "template2 = PromptTemplate(\n",
    "    template='Write a 5 line summary on the following text. /n {text}',\n",
    "    input_variables=['text']\n",
    ")"
   ]
  },
  {
   "cell_type": "code",
   "execution_count": 6,
   "id": "253479cf",
   "metadata": {},
   "outputs": [
    {
     "data": {
      "text/plain": [
       "StringPromptValue(text='Write a detailed report on blackhole')"
      ]
     },
     "execution_count": 6,
     "metadata": {},
     "output_type": "execute_result"
    }
   ],
   "source": [
    "prompt1= template1.invoke({'topic': 'blackhole'})\n",
    "prompt1"
   ]
  },
  {
   "cell_type": "code",
   "execution_count": 8,
   "id": "9fef8d6e",
   "metadata": {},
   "outputs": [
    {
     "data": {
      "text/plain": [
       "AIMessage(content=\"## A Journey into the Abyss: A Detailed Report on Black Holes\\n\\nBlack holes, celestial objects of immense density and gravitational pull, have captured the imaginations of scientists and the public alike. These enigmatic entities, born from the death throes of massive stars, warp the fabric of spacetime, bending light and trapping anything that ventures too close. This report delves into the fascinating world of black holes, exploring their formation, properties, and the profound implications they have for our understanding of the universe.\\n\\n**1. Genesis of a Monster: Formation of Black Holes**\\n\\nBlack holes are not cosmic vacuum cleaners, randomly swallowing everything in their path. They are formed under specific, extreme conditions:\\n\\n* **Stellar Collapse:** When a star significantly more massive than our Sun exhausts its nuclear fuel, its core collapses under its own gravity. If the core's mass exceeds a critical threshold (approximately three times the mass of the Sun), the collapse becomes unstoppable, resulting in a supernova explosion and the creation of a black hole.\\n\\n* **Mergers of Neutron Stars:** Neutron stars, the incredibly dense remnants of less massive stars, can also coalesce under immense gravitational forces, forming a black hole.\\n\\n* **Primordial Black Holes:** A hypothetical type of black hole, potentially formed in the early universe during the Big Bang, remains a subject of ongoing research.\\n\\n**2. Defining the Abyss: Properties of Black Holes**\\n\\nBlack holes are characterized by three key properties:\\n\\n* **Mass:** This is the most fundamental property, determining the black hole's gravitational strength. Supermassive black holes, millions or even billions of times more massive than the Sun, reside at the centers of most galaxies, including our own Milky Way. Stellar-mass black holes, formed from collapsing stars, are significantly smaller.\\n\\n* **Spin:** Black holes can rotate, and their spin rate influences the shape of their event horizon and the dynamics of surrounding matter.\\n\\n* **Charge:** Although theoretical, black holes may possess an electric charge.\\n\\n**3. Point of No Return: The Event Horizon**\\n\\nThe event horizon marks the boundary beyond which escape from a black hole's gravitational pull becomes impossible, not even light can escape. Its size is directly proportional to the black hole's mass, known as the Schwarzschild radius.\\n\\n**4. Unveiling the Invisible: Observing Black Holes**\\n\\nDetecting black holes directly is impossible due to their light-trapping nature. However, we can infer their presence through their gravitational effects on surrounding matter:\\n\\n* **Orbital Motion:** Observing the rapid and eccentric orbits of stars or gas clouds near a seemingly empty region provides strong evidence for a black hole's presence.\\n* **X-ray Emissions:** As matter spirals into a black hole, it heats up to millions of degrees, emitting intense X-rays that can be detected by telescopes.\\n* **Gravitational Waves:** The merger of two black holes generates ripples in spacetime known as gravitational waves, which can be detected by sensitive instruments on Earth.\\n\\n**5. Impact on the Universe: Black Holes as Cosmic Architects**\\n\\nBlack holes play a crucial role in the evolution of galaxies:\\n\\n* **Galactic Nuclei:** Supermassive black holes at galactic centers regulate star formation and influence the overall dynamics of their host galaxies.\\n* **Releasing Energy:** The accretion of matter onto black holes releases enormous amounts of energy, contributing to the luminosity of active galactic nuclei (AGN).\\n* **Gravitational Lensing:** The immense gravity of black holes can bend light from distant objects, creating distorted and magnified images.\\n\\n**6. Unanswered Questions: The Future of Black Hole Research**\\n\\nDespite significant advances in our understanding, many mysteries surrounding black holes remain:\\n\\n* **Information Paradox:** What happens to the information contained in matter that falls into a black hole?\\n\\n* **Quantum Gravity:** How do black holes behave at the quantum level, where the laws of gravity and quantum mechanics interact?\\n\\n* **Origin of Primordial Black Holes:** Did these hypothetical black holes form in the early universe, and if so, what role did they play in its evolution?\\n\\nContinued research and observation will undoubtedly shed further light on these enigmatic objects, deepening our understanding of the universe's most extreme environments.\\n\\n\\n\", additional_kwargs={}, response_metadata={'token_usage': {'completion_tokens': 867, 'prompt_tokens': 16, 'total_tokens': 883, 'completion_time': 1.576363636, 'prompt_time': 0.001932849, 'queue_time': 0.24562388100000002, 'total_time': 1.578296485}, 'model_name': 'gemma2-9b-it', 'system_fingerprint': 'fp_10c08bf97d', 'finish_reason': 'stop', 'logprobs': None}, id='run--b1735af6-f767-4a61-9241-8c90c375daa7-0', usage_metadata={'input_tokens': 16, 'output_tokens': 867, 'total_tokens': 883})"
      ]
     },
     "execution_count": 8,
     "metadata": {},
     "output_type": "execute_result"
    }
   ],
   "source": [
    "result= model.invoke(prompt1)\n",
    "result"
   ]
  },
  {
   "cell_type": "code",
   "execution_count": 9,
   "id": "41642998",
   "metadata": {},
   "outputs": [
    {
     "data": {
      "text/plain": [
       "'Black holes are incredibly dense objects formed from the collapse of massive stars or the merger of neutron stars. They are characterized by their mass, spin, and charge, and possess an event horizon beyond which escape is impossible.  Black holes are detected indirectly through their gravitational effects on surrounding matter, such as orbital motion, X-ray emissions, and gravitational waves. They play a crucial role in galaxy evolution, regulating star formation and influencing the dynamics of their host galaxies.  Ongoing research seeks to unravel mysteries surrounding black holes, including the information paradox and their behavior at the quantum level.  \\n\\n\\n'"
      ]
     },
     "execution_count": 9,
     "metadata": {},
     "output_type": "execute_result"
    }
   ],
   "source": [
    "prompt2 = template2.invoke({'text': result.content})\n",
    "result = model.invoke(prompt2)\n",
    "result.content"
   ]
  },
  {
   "cell_type": "markdown",
   "id": "5b21eb09",
   "metadata": {},
   "source": [
    "## Same code with StrOutputParser"
   ]
  },
  {
   "cell_type": "code",
   "execution_count": 10,
   "id": "4b401939",
   "metadata": {},
   "outputs": [],
   "source": [
    "parser = StrOutputParser()\n",
    "\n",
    "chain = template1 | model | parser | template2 | model | parser"
   ]
  },
  {
   "cell_type": "code",
   "execution_count": 11,
   "id": "64b0c484",
   "metadata": {},
   "outputs": [
    {
     "data": {
      "text/plain": [
       "'Black holes are regions of spacetime with immense gravity where nothing, not even light, can escape. They form from the collapse of massive stars and are classified by mass as stellar-mass, supermassive, or intermediate-mass.  \\n\\nBlack holes are detected indirectly through their gravitational effects on surrounding matter, X-ray emissions from accretion disks, and gravitational waves produced by mergers. These cosmic objects play a crucial role in galaxy evolution and serve as laboratories for testing theories of gravity.  \\n\\n\\nFuture research aims to characterize black hole populations, study accretion processes, and explore the enigmatic nature of singularities. \\n'"
      ]
     },
     "execution_count": 11,
     "metadata": {},
     "output_type": "execute_result"
    }
   ],
   "source": [
    "result= chain.invoke({'topic': 'blackhole'})\n",
    "result"
   ]
  },
  {
   "cell_type": "code",
   "execution_count": 14,
   "id": "cf522d50",
   "metadata": {},
   "outputs": [
    {
     "data": {
      "text/plain": [
       "'The potato, native to the Andes, has become a global staple crop.  Domesticated over 7,000 years ago, it spread to Europe and gained widespread acceptance, particularly in Ireland.  Rich in carbohydrates, vitamin C, and potassium, potatoes are versatile and used in countless dishes worldwide.  The global potato industry is significant, contributing to food security and generating billions in revenue.  Facing challenges like climate change, research focuses on developing resilient potato varieties to ensure future production. \\n\\n\\n'"
      ]
     },
     "execution_count": 14,
     "metadata": {},
     "output_type": "execute_result"
    }
   ],
   "source": [
    "# Full code\n",
    "\n",
    "from langchain_groq import ChatGroq\n",
    "from dotenv import load_dotenv\n",
    "\n",
    "from langchain_core.output_parsers import StrOutputParser\n",
    "from langchain.prompts import PromptTemplate\n",
    "\n",
    "load_dotenv()\n",
    "\n",
    "model = ChatGroq(model=\"gemma2-9b-it\")\n",
    "\n",
    "# 1st prompt -> detailed report\n",
    "template1 = PromptTemplate(\n",
    "    template='Write a detailed report on {topic}',\n",
    "    input_variables=['topic']\n",
    ")\n",
    "\n",
    "# 2nd prompt -> summary\n",
    "template2 = PromptTemplate(\n",
    "    template='Write a 5 line summary on the following text. /n {text}',\n",
    "    input_variables=['text']\n",
    ")\n",
    "\n",
    "\n",
    "parser= StrOutputParser()\n",
    "\n",
    "chain = template1 | model | parser | template2 | model | parser\n",
    "\n",
    "chain.invoke({'topic':'potato'})"
   ]
  },
  {
   "cell_type": "markdown",
   "id": "8ddd988a",
   "metadata": {},
   "source": [
    "# 2. JsonOutputParser()"
   ]
  },
  {
   "cell_type": "code",
   "execution_count": 2,
   "id": "987b1d53",
   "metadata": {},
   "outputs": [],
   "source": [
    "from langchain_groq import ChatGroq\n",
    "from dotenv import load_dotenv\n",
    "\n",
    "from langchain_core.output_parsers import JsonOutputParser\n",
    "from langchain.prompts import PromptTemplate\n",
    "\n",
    "load_dotenv()\n",
    "\n",
    "model = ChatGroq(model=\"gemma2-9b-it\")"
   ]
  },
  {
   "cell_type": "code",
   "execution_count": 3,
   "id": "d2729866",
   "metadata": {},
   "outputs": [],
   "source": [
    "parser = JsonOutputParser()"
   ]
  },
  {
   "cell_type": "code",
   "execution_count": 4,
   "id": "e1cef9c8",
   "metadata": {},
   "outputs": [],
   "source": [
    "template = PromptTemplate(\n",
    "    template='Give me 5 facts about {topic} \\n {format_instruction}',\n",
    "    input_variables=['topic'],\n",
    "    partial_variables={'format_instruction': parser.get_format_instructions()}\n",
    ")"
   ]
  },
  {
   "cell_type": "code",
   "execution_count": 5,
   "id": "713fb0bc",
   "metadata": {},
   "outputs": [
    {
     "data": {
      "text/plain": [
       "'Return a JSON object.'"
      ]
     },
     "execution_count": 5,
     "metadata": {},
     "output_type": "execute_result"
    }
   ],
   "source": [
    "parser.get_format_instructions()"
   ]
  },
  {
   "cell_type": "code",
   "execution_count": 7,
   "id": "7df07784",
   "metadata": {},
   "outputs": [
    {
     "data": {
      "text/plain": [
       "{'facts': ['Black holes are regions in spacetime where gravity is so strong that nothing, not even light, can escape.',\n",
       "  'They are formed when massive stars collapse at the end of their life cycle.',\n",
       "  'Black holes are characterized by their event horizon, a boundary beyond which escape is impossible.',\n",
       "  'Although we cannot see black holes directly, their presence can be inferred by observing their effects on surrounding matter.',\n",
       "  'The most common type of black hole is a stellar-mass black hole, which is a few times more massive than our Sun.']}"
      ]
     },
     "execution_count": 7,
     "metadata": {},
     "output_type": "execute_result"
    }
   ],
   "source": [
    "chain = template | model | parser\n",
    "\n",
    "result = chain.invoke({\"topic\": \"black hole\"})\n",
    "\n",
    "result"
   ]
  },
  {
   "cell_type": "markdown",
   "id": "b091a081",
   "metadata": {},
   "source": [
    "# 3. StructuredOutputParser()"
   ]
  },
  {
   "cell_type": "code",
   "execution_count": 30,
   "id": "e2b9575e",
   "metadata": {},
   "outputs": [],
   "source": [
    "from langchain_groq import ChatGroq\n",
    "from dotenv import load_dotenv\n",
    "\n",
    "from langchain.output_parsers import StructuredOutputParser, ResponseSchema\n",
    "from langchain.prompts import PromptTemplate\n",
    "\n",
    "load_dotenv()\n",
    "\n",
    "model = ChatGroq(model=\"gemma2-9b-it\")"
   ]
  },
  {
   "cell_type": "code",
   "execution_count": 31,
   "id": "d59c4bac",
   "metadata": {},
   "outputs": [],
   "source": [
    "schema = [\n",
    "    ResponseSchema(name='fact_1', description='Fact 1 about the topic'),\n",
    "    ResponseSchema(name='fact_2', description='Fact 2 about the topic'),\n",
    "    ResponseSchema(name='fact_3', description='Fact 3 about the topic')\n",
    "\n",
    "]"
   ]
  },
  {
   "cell_type": "code",
   "execution_count": 32,
   "id": "37526531",
   "metadata": {},
   "outputs": [],
   "source": [
    "parser = StructuredOutputParser.from_response_schemas(schema)"
   ]
  },
  {
   "cell_type": "code",
   "execution_count": 33,
   "id": "810c846f",
   "metadata": {},
   "outputs": [],
   "source": [
    "template = PromptTemplate(\n",
    "    template= \"Give 3 facts about {topic} \\n {format_instruction}\",\n",
    "    input_variables= ['topic'],\n",
    "    partial_variables = {'format_instruction': parser.get_format_instructions()}\n",
    ")"
   ]
  },
  {
   "cell_type": "code",
   "execution_count": null,
   "id": "69ce466f",
   "metadata": {},
   "outputs": [
    {
     "data": {
      "text/plain": [
       "{'fact_1': 'LangChain is an open-source framework designed to simplify the development of applications powered by large language models (LLMs).',\n",
       " 'fact_2': 'It provides tools for tasks like prompt engineering, chain creation, memory management, and integration with various LLMs and data sources.',\n",
       " 'fact_3': 'LangChain enables developers to build more sophisticated and customizable AI applications by chaining together different LLM components and external services.'}"
      ]
     },
     "execution_count": 19,
     "metadata": {},
     "output_type": "execute_result"
    }
   ],
   "source": [
    "chain = template | model | parser\n",
    "\n",
    "result = chain.invoke({'topic':'langchain'})\n",
    "result"
   ]
  },
  {
   "cell_type": "markdown",
   "id": "1c6e0b4f",
   "metadata": {},
   "source": [
    "# 3. PydanticOutputParser()"
   ]
  },
  {
   "cell_type": "code",
   "execution_count": 20,
   "id": "e5631974",
   "metadata": {},
   "outputs": [],
   "source": [
    "from langchain_groq import ChatGroq\n",
    "from dotenv import load_dotenv\n",
    "\n",
    "from langchain_core.output_parsers import PydanticOutputParser\n",
    "from pydantic import BaseModel, Field\n",
    "\n",
    "from langchain.prompts import PromptTemplate\n",
    "\n",
    "load_dotenv()\n",
    "\n",
    "model = ChatGroq(model=\"gemma2-9b-it\")"
   ]
  },
  {
   "cell_type": "code",
   "execution_count": 21,
   "id": "f376f2db",
   "metadata": {},
   "outputs": [],
   "source": [
    "class Person(BaseModel):\n",
    "    name: str = Field(description=\"Name of the person\")\n",
    "    age: int = Field(gt=18, description=\"age of the person\")\n",
    "    city : str =  Field(description='Name of the city the person belongs to')"
   ]
  },
  {
   "cell_type": "code",
   "execution_count": null,
   "id": "0b0a7a20",
   "metadata": {},
   "outputs": [],
   "source": [
    "parser = PydanticOutputParser(pydantic_object=Person)"
   ]
  },
  {
   "cell_type": "code",
   "execution_count": 26,
   "id": "c85fee0d",
   "metadata": {},
   "outputs": [],
   "source": [
    "template = PromptTemplate(\n",
    "    template='Generate the name, age and city of a fictional {place} person \\n {format_instruction}',\n",
    "    input_variables=['place'],\n",
    "    partial_variables={'format_instruction': parser.get_format_instructions()}\n",
    ")"
   ]
  },
  {
   "cell_type": "code",
   "execution_count": 27,
   "id": "caae2be2",
   "metadata": {},
   "outputs": [
    {
     "data": {
      "text/plain": [
       "'The output should be formatted as a JSON instance that conforms to the JSON schema below.\\n\\nAs an example, for the schema {\"properties\": {\"foo\": {\"title\": \"Foo\", \"description\": \"a list of strings\", \"type\": \"array\", \"items\": {\"type\": \"string\"}}}, \"required\": [\"foo\"]}\\nthe object {\"foo\": [\"bar\", \"baz\"]} is a well-formatted instance of the schema. The object {\"properties\": {\"foo\": [\"bar\", \"baz\"]}} is not well-formatted.\\n\\nHere is the output schema:\\n```\\n{\"properties\": {\"name\": {\"description\": \"Name of the person\", \"title\": \"Name\", \"type\": \"string\"}, \"age\": {\"description\": \"age of the person\", \"exclusiveMinimum\": 18, \"title\": \"Age\", \"type\": \"integer\"}, \"city\": {\"description\": \"Name of the city the person belongs to\", \"title\": \"City\", \"type\": \"string\"}}, \"required\": [\"name\", \"age\", \"city\"]}\\n```'"
      ]
     },
     "execution_count": 27,
     "metadata": {},
     "output_type": "execute_result"
    }
   ],
   "source": [
    "parser.get_format_instructions()"
   ]
  },
  {
   "cell_type": "code",
   "execution_count": 28,
   "id": "819a46b5",
   "metadata": {},
   "outputs": [
    {
     "name": "stdout",
     "output_type": "stream",
     "text": [
      "name='Anika Sharma' age=25 city='Mumbai'\n"
     ]
    }
   ],
   "source": [
    "chain = template | model | parser\n",
    "\n",
    "final_result = chain.invoke({'place':'indian'})\n",
    "\n",
    "print(final_result)"
   ]
  },
  {
   "cell_type": "code",
   "execution_count": null,
   "id": "c35060c9",
   "metadata": {},
   "outputs": [],
   "source": []
  },
  {
   "cell_type": "code",
   "execution_count": null,
   "id": "c66196eb",
   "metadata": {},
   "outputs": [],
   "source": []
  }
 ],
 "metadata": {
  "kernelspec": {
   "display_name": "Python 3",
   "language": "python",
   "name": "python3"
  },
  "language_info": {
   "codemirror_mode": {
    "name": "ipython",
    "version": 3
   },
   "file_extension": ".py",
   "mimetype": "text/x-python",
   "name": "python",
   "nbconvert_exporter": "python",
   "pygments_lexer": "ipython3",
   "version": "3.10.16"
  }
 },
 "nbformat": 4,
 "nbformat_minor": 5
}
