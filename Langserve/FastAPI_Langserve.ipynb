{
 "cells": [
  {
   "cell_type": "code",
   "execution_count": null,
   "id": "5e2ce3ff",
   "metadata": {},
   "outputs": [
    {
     "name": "stdout",
     "output_type": "stream",
     "text": [
      "Collecting fastapi\n",
      "  Using cached fastapi-0.115.12-py3-none-any.whl.metadata (27 kB)\n",
      "Collecting starlette<0.47.0,>=0.40.0 (from fastapi)\n",
      "  Using cached starlette-0.46.2-py3-none-any.whl.metadata (6.2 kB)\n",
      "Requirement already satisfied: pydantic!=1.8,!=1.8.1,!=2.0.0,!=2.0.1,!=2.1.0,<3.0.0,>=1.7.4 in d:\\python_env\\langchain\\venv\\lib\\site-packages (from fastapi) (2.11.5)\n",
      "Requirement already satisfied: typing-extensions>=4.8.0 in d:\\python_env\\langchain\\venv\\lib\\site-packages (from fastapi) (4.13.2)\n",
      "Requirement already satisfied: annotated-types>=0.6.0 in d:\\python_env\\langchain\\venv\\lib\\site-packages (from pydantic!=1.8,!=1.8.1,!=2.0.0,!=2.0.1,!=2.1.0,<3.0.0,>=1.7.4->fastapi) (0.7.0)\n",
      "Requirement already satisfied: pydantic-core==2.33.2 in d:\\python_env\\langchain\\venv\\lib\\site-packages (from pydantic!=1.8,!=1.8.1,!=2.0.0,!=2.0.1,!=2.1.0,<3.0.0,>=1.7.4->fastapi) (2.33.2)\n",
      "Requirement already satisfied: typing-inspection>=0.4.0 in d:\\python_env\\langchain\\venv\\lib\\site-packages (from pydantic!=1.8,!=1.8.1,!=2.0.0,!=2.0.1,!=2.1.0,<3.0.0,>=1.7.4->fastapi) (0.4.1)\n",
      "Requirement already satisfied: anyio<5,>=3.6.2 in d:\\python_env\\langchain\\venv\\lib\\site-packages (from starlette<0.47.0,>=0.40.0->fastapi) (4.9.0)\n",
      "Requirement already satisfied: exceptiongroup>=1.0.2 in d:\\python_env\\langchain\\venv\\lib\\site-packages (from anyio<5,>=3.6.2->starlette<0.47.0,>=0.40.0->fastapi) (1.3.0)\n",
      "Requirement already satisfied: idna>=2.8 in d:\\python_env\\langchain\\venv\\lib\\site-packages (from anyio<5,>=3.6.2->starlette<0.47.0,>=0.40.0->fastapi) (3.10)\n",
      "Requirement already satisfied: sniffio>=1.1 in d:\\python_env\\langchain\\venv\\lib\\site-packages (from anyio<5,>=3.6.2->starlette<0.47.0,>=0.40.0->fastapi) (1.3.1)\n",
      "Using cached fastapi-0.115.12-py3-none-any.whl (95 kB)\n",
      "Using cached starlette-0.46.2-py3-none-any.whl (72 kB)\n",
      "Installing collected packages: starlette, fastapi\n",
      "\n",
      "   ---------------------------------------- 0/2 [starlette]\n",
      "   ---------------------------------------- 0/2 [starlette]\n",
      "   ---------------------------------------- 0/2 [starlette]\n",
      "   -------------------- ------------------- 1/2 [fastapi]\n",
      "   -------------------- ------------------- 1/2 [fastapi]\n",
      "   -------------------- ------------------- 1/2 [fastapi]\n",
      "   -------------------- ------------------- 1/2 [fastapi]\n",
      "   ---------------------------------------- 2/2 [fastapi]\n",
      "\n",
      "Successfully installed fastapi-0.115.12 starlette-0.46.2\n",
      "Note: you may need to restart the kernel to use updated packages.\n"
     ]
    }
   ],
   "source": [
    "#pip install fastapi"
   ]
  },
  {
   "cell_type": "code",
   "execution_count": 2,
   "id": "5ad3c413",
   "metadata": {},
   "outputs": [
    {
     "name": "stdout",
     "output_type": "stream",
     "text": [
      "Collecting uvicorn\n",
      "  Using cached uvicorn-0.34.2-py3-none-any.whl.metadata (6.5 kB)\n",
      "Requirement already satisfied: click>=7.0 in d:\\python_env\\langchain\\venv\\lib\\site-packages (from uvicorn) (8.2.1)\n",
      "Requirement already satisfied: h11>=0.8 in d:\\python_env\\langchain\\venv\\lib\\site-packages (from uvicorn) (0.16.0)\n",
      "Requirement already satisfied: typing-extensions>=4.0 in d:\\python_env\\langchain\\venv\\lib\\site-packages (from uvicorn) (4.13.2)\n",
      "Requirement already satisfied: colorama in d:\\python_env\\langchain\\venv\\lib\\site-packages (from click>=7.0->uvicorn) (0.4.6)\n",
      "Using cached uvicorn-0.34.2-py3-none-any.whl (62 kB)\n",
      "Installing collected packages: uvicorn\n",
      "Successfully installed uvicorn-0.34.2\n",
      "Note: you may need to restart the kernel to use updated packages.\n"
     ]
    }
   ],
   "source": [
    "#pip install uvicorn"
   ]
  },
  {
   "cell_type": "code",
   "execution_count": 12,
   "id": "d6f32043",
   "metadata": {},
   "outputs": [],
   "source": [
    "from fastapi import FastAPI\n",
    "from langchain_core.prompts import ChatPromptTemplate\n",
    "from langchain_core.output_parsers import StrOutputParser\n",
    "from langchain_groq import ChatGroq\n",
    "import os\n",
    "from dotenv import load_dotenv\n",
    "from langserve import add_routes"
   ]
  },
  {
   "cell_type": "code",
   "execution_count": 7,
   "id": "8da575e3",
   "metadata": {},
   "outputs": [],
   "source": [
    "load_dotenv()\n",
    "groq_api_key = os.getenv(\"GROQ_API_KEY\")"
   ]
  },
  {
   "cell_type": "code",
   "execution_count": 8,
   "id": "4436b582",
   "metadata": {},
   "outputs": [],
   "source": [
    "model=ChatGroq(model=\"Gemma2-9b-It\",groq_api_key=groq_api_key)"
   ]
  },
  {
   "cell_type": "markdown",
   "id": "60aa7d8c",
   "metadata": {},
   "source": [
    "### Langserve"
   ]
  },
  {
   "cell_type": "code",
   "execution_count": null,
   "id": "06aeda23",
   "metadata": {},
   "outputs": [
    {
     "name": "stdout",
     "output_type": "stream",
     "text": [
      "Collecting langserve\n",
      "  Downloading langserve-0.3.1-py3-none-any.whl.metadata (40 kB)\n",
      "Requirement already satisfied: httpx<1.0,>=0.23.0 in d:\\python_env\\langchain\\venv\\lib\\site-packages (from langserve) (0.28.1)\n",
      "Requirement already satisfied: langchain-core<0.4,>=0.3 in d:\\python_env\\langchain\\venv\\lib\\site-packages (from langserve) (0.3.61)\n",
      "Requirement already satisfied: orjson<4,>=2 in d:\\python_env\\langchain\\venv\\lib\\site-packages (from langserve) (3.10.18)\n",
      "Requirement already satisfied: pydantic<3.0,>=2.7 in d:\\python_env\\langchain\\venv\\lib\\site-packages (from langserve) (2.11.5)\n",
      "Requirement already satisfied: anyio in d:\\python_env\\langchain\\venv\\lib\\site-packages (from httpx<1.0,>=0.23.0->langserve) (4.9.0)\n",
      "Requirement already satisfied: certifi in d:\\python_env\\langchain\\venv\\lib\\site-packages (from httpx<1.0,>=0.23.0->langserve) (2025.4.26)\n",
      "Requirement already satisfied: httpcore==1.* in d:\\python_env\\langchain\\venv\\lib\\site-packages (from httpx<1.0,>=0.23.0->langserve) (1.0.9)\n",
      "Requirement already satisfied: idna in d:\\python_env\\langchain\\venv\\lib\\site-packages (from httpx<1.0,>=0.23.0->langserve) (3.10)\n",
      "Requirement already satisfied: h11>=0.16 in d:\\python_env\\langchain\\venv\\lib\\site-packages (from httpcore==1.*->httpx<1.0,>=0.23.0->langserve) (0.16.0)\n",
      "Requirement already satisfied: langsmith<0.4,>=0.1.126 in d:\\python_env\\langchain\\venv\\lib\\site-packages (from langchain-core<0.4,>=0.3->langserve) (0.3.42)\n",
      "Requirement already satisfied: tenacity!=8.4.0,<10.0.0,>=8.1.0 in d:\\python_env\\langchain\\venv\\lib\\site-packages (from langchain-core<0.4,>=0.3->langserve) (9.1.2)\n",
      "Requirement already satisfied: jsonpatch<2.0,>=1.33 in d:\\python_env\\langchain\\venv\\lib\\site-packages (from langchain-core<0.4,>=0.3->langserve) (1.33)\n",
      "Requirement already satisfied: PyYAML>=5.3 in d:\\python_env\\langchain\\venv\\lib\\site-packages (from langchain-core<0.4,>=0.3->langserve) (6.0.2)\n",
      "Requirement already satisfied: packaging<25,>=23.2 in d:\\python_env\\langchain\\venv\\lib\\site-packages (from langchain-core<0.4,>=0.3->langserve) (24.2)\n",
      "Requirement already satisfied: typing-extensions>=4.7 in d:\\python_env\\langchain\\venv\\lib\\site-packages (from langchain-core<0.4,>=0.3->langserve) (4.13.2)\n",
      "Requirement already satisfied: jsonpointer>=1.9 in d:\\python_env\\langchain\\venv\\lib\\site-packages (from jsonpatch<2.0,>=1.33->langchain-core<0.4,>=0.3->langserve) (3.0.0)\n",
      "Requirement already satisfied: requests<3,>=2 in d:\\python_env\\langchain\\venv\\lib\\site-packages (from langsmith<0.4,>=0.1.126->langchain-core<0.4,>=0.3->langserve) (2.32.3)\n",
      "Requirement already satisfied: requests-toolbelt<2.0.0,>=1.0.0 in d:\\python_env\\langchain\\venv\\lib\\site-packages (from langsmith<0.4,>=0.1.126->langchain-core<0.4,>=0.3->langserve) (1.0.0)\n",
      "Requirement already satisfied: zstandard<0.24.0,>=0.23.0 in d:\\python_env\\langchain\\venv\\lib\\site-packages (from langsmith<0.4,>=0.1.126->langchain-core<0.4,>=0.3->langserve) (0.23.0)\n",
      "Requirement already satisfied: annotated-types>=0.6.0 in d:\\python_env\\langchain\\venv\\lib\\site-packages (from pydantic<3.0,>=2.7->langserve) (0.7.0)\n",
      "Requirement already satisfied: pydantic-core==2.33.2 in d:\\python_env\\langchain\\venv\\lib\\site-packages (from pydantic<3.0,>=2.7->langserve) (2.33.2)\n",
      "Requirement already satisfied: typing-inspection>=0.4.0 in d:\\python_env\\langchain\\venv\\lib\\site-packages (from pydantic<3.0,>=2.7->langserve) (0.4.1)\n",
      "Requirement already satisfied: charset-normalizer<4,>=2 in d:\\python_env\\langchain\\venv\\lib\\site-packages (from requests<3,>=2->langsmith<0.4,>=0.1.126->langchain-core<0.4,>=0.3->langserve) (3.4.2)\n",
      "Requirement already satisfied: urllib3<3,>=1.21.1 in d:\\python_env\\langchain\\venv\\lib\\site-packages (from requests<3,>=2->langsmith<0.4,>=0.1.126->langchain-core<0.4,>=0.3->langserve) (2.4.0)\n",
      "Requirement already satisfied: exceptiongroup>=1.0.2 in d:\\python_env\\langchain\\venv\\lib\\site-packages (from anyio->httpx<1.0,>=0.23.0->langserve) (1.3.0)\n",
      "Requirement already satisfied: sniffio>=1.1 in d:\\python_env\\langchain\\venv\\lib\\site-packages (from anyio->httpx<1.0,>=0.23.0->langserve) (1.3.1)\n",
      "Downloading langserve-0.3.1-py3-none-any.whl (1.2 MB)\n",
      "   ---------------------------------------- 0.0/1.2 MB ? eta -:--:--\n",
      "   ---------------------------------------- 1.2/1.2 MB 9.7 MB/s eta 0:00:00\n",
      "Installing collected packages: langserve\n",
      "Successfully installed langserve-0.3.1\n",
      "Note: you may need to restart the kernel to use updated packages.\n"
     ]
    }
   ],
   "source": [
    "#pip install langserve"
   ]
  },
  {
   "cell_type": "code",
   "execution_count": 13,
   "id": "c673adeb",
   "metadata": {},
   "outputs": [],
   "source": [
    "# 1. Create prompt template\n",
    "system_template = \"Translate the following into {language}:\"\n",
    "prompt_template = ChatPromptTemplate.from_messages([\n",
    "    ('system', system_template),\n",
    "    ('user', '{text}')\n",
    "])\n",
    "\n",
    "parser=StrOutputParser()\n",
    "\n",
    "##create chain\n",
    "chain=prompt_template|model|parser"
   ]
  },
  {
   "cell_type": "markdown",
   "id": "e7e41fc8",
   "metadata": {},
   "source": [
    "### App Definition"
   ]
  },
  {
   "cell_type": "code",
   "execution_count": 2,
   "id": "5013d6f8",
   "metadata": {},
   "outputs": [
    {
     "name": "stdout",
     "output_type": "stream",
     "text": [
      "Requirement already satisfied: pydantic in d:\\python_env\\langchain\\venv\\lib\\site-packages (1.10.22)\n",
      "Requirement already satisfied: typing-extensions>=4.2.0 in d:\\python_env\\langchain\\venv\\lib\\site-packages (from pydantic) (4.13.2)\n",
      "Note: you may need to restart the kernel to use updated packages.\n"
     ]
    }
   ],
   "source": [
    "pip install pydantic"
   ]
  },
  {
   "cell_type": "code",
   "execution_count": null,
   "id": "82b49e9d",
   "metadata": {},
   "outputs": [
    {
     "name": "stdout",
     "output_type": "stream",
     "text": [
      "Collecting sse_starlette\n",
      "  Downloading sse_starlette-2.3.6-py3-none-any.whl.metadata (10 kB)\n",
      "Requirement already satisfied: anyio>=4.7.0 in d:\\python_env\\langchain\\venv\\lib\\site-packages (from sse_starlette) (4.9.0)\n",
      "Requirement already satisfied: exceptiongroup>=1.0.2 in d:\\python_env\\langchain\\venv\\lib\\site-packages (from anyio>=4.7.0->sse_starlette) (1.3.0)\n",
      "Requirement already satisfied: idna>=2.8 in d:\\python_env\\langchain\\venv\\lib\\site-packages (from anyio>=4.7.0->sse_starlette) (3.10)\n",
      "Requirement already satisfied: sniffio>=1.1 in d:\\python_env\\langchain\\venv\\lib\\site-packages (from anyio>=4.7.0->sse_starlette) (1.3.1)\n",
      "Requirement already satisfied: typing_extensions>=4.5 in d:\\python_env\\langchain\\venv\\lib\\site-packages (from anyio>=4.7.0->sse_starlette) (4.13.2)\n",
      "Downloading sse_starlette-2.3.6-py3-none-any.whl (10 kB)\n",
      "Installing collected packages: sse_starlette\n",
      "Successfully installed sse_starlette-2.3.6\n",
      "Note: you may need to restart the kernel to use updated packages.\n"
     ]
    }
   ],
   "source": [
    "#pip install sse_starlette"
   ]
  },
  {
   "cell_type": "code",
   "execution_count": null,
   "id": "c7abda4e",
   "metadata": {},
   "outputs": [],
   "source": []
  },
  {
   "cell_type": "code",
   "execution_count": 14,
   "id": "1515a655",
   "metadata": {},
   "outputs": [],
   "source": [
    "app=FastAPI(title=\"Langchain Server\",\n",
    "            version=\"1.0\",\n",
    "            description=\"A simple API server using Langchain runnable interfaces\")"
   ]
  },
  {
   "cell_type": "code",
   "execution_count": 17,
   "id": "0938f6c0",
   "metadata": {},
   "outputs": [],
   "source": [
    "add_routes(\n",
    "    app,\n",
    "    chain,\n",
    "    path = \"/chain\"\n",
    ")"
   ]
  },
  {
   "cell_type": "code",
   "execution_count": 3,
   "id": "5e50dd9c",
   "metadata": {},
   "outputs": [
    {
     "ename": "NameError",
     "evalue": "name 'app' is not defined",
     "output_type": "error",
     "traceback": [
      "\u001b[1;31m---------------------------------------------------------------------------\u001b[0m",
      "\u001b[1;31mNameError\u001b[0m                                 Traceback (most recent call last)",
      "Cell \u001b[1;32mIn[3], line 3\u001b[0m\n\u001b[0;32m      1\u001b[0m \u001b[38;5;28;01mif\u001b[39;00m \u001b[38;5;18m__name__\u001b[39m \u001b[38;5;241m==\u001b[39m \u001b[38;5;124m\"\u001b[39m\u001b[38;5;124m__main__\u001b[39m\u001b[38;5;124m\"\u001b[39m:\n\u001b[0;32m      2\u001b[0m     \u001b[38;5;28;01mimport\u001b[39;00m\u001b[38;5;250m \u001b[39m\u001b[38;5;21;01muvicorn\u001b[39;00m\n\u001b[1;32m----> 3\u001b[0m     uvicorn\u001b[38;5;241m.\u001b[39mrun(\u001b[43mapp\u001b[49m)\n",
      "\u001b[1;31mNameError\u001b[0m: name 'app' is not defined"
     ]
    }
   ],
   "source": [
    "if __name__ == \"__main__\":\n",
    "    import uvicorn\n",
    "    uvicorn.run(app)"
   ]
  }
 ],
 "metadata": {
  "kernelspec": {
   "display_name": "Python 3",
   "language": "python",
   "name": "python3"
  },
  "language_info": {
   "codemirror_mode": {
    "name": "ipython",
    "version": 3
   },
   "file_extension": ".py",
   "mimetype": "text/x-python",
   "name": "python",
   "nbconvert_exporter": "python",
   "pygments_lexer": "ipython3",
   "version": "3.10.16"
  }
 },
 "nbformat": 4,
 "nbformat_minor": 5
}
